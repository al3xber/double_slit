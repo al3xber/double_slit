{
 "cells": [
  {
   "cell_type": "markdown",
   "metadata": {},
   "source": [
    "# Analytical analysis #"
   ]
  },
  {
   "cell_type": "code",
   "execution_count": 1,
   "metadata": {},
   "outputs": [],
   "source": [
    "import sympy\n",
    "sympy.init_printing()"
   ]
  },
  {
   "cell_type": "code",
   "execution_count": 2,
   "metadata": {},
   "outputs": [],
   "source": [
    "x = sympy.Symbol('x', real=True)\n",
    "y = sympy.Symbol('y', real=True)\n",
    "x0 = sympy.Symbol('x_0', real=True)\n",
    "sx = sympy.Symbol('s_x', real=True)\n",
    "intensity = sympy.Symbol('I', real=True)\n",
    "phase = sympy.Symbol(r'\\varphi', real=True)\n",
    "visibility = sympy.Symbol('\\mathrm{vis}', real=True)\n",
    "a3 = sympy.Symbol('a_3', real=True)\n",
    "offset = sympy.Symbol('y_0', real=True)"
   ]
  },
  {
   "cell_type": "code",
   "execution_count": 3,
   "metadata": {},
   "outputs": [
    {
     "data": {
      "image/png": "[encoded data removed]",
      "text/latex": [
       "$\\displaystyle \\frac{I \\left(\\mathrm{vis} \\cos{\\left(\\varphi + a_{3} \\left(x - x_{0}\\right) \\right)} + 1\\right) \\operatorname{sinc}^{2}{\\left(s_{x} \\left(x - x_{0}\\right) \\right)}}{2} + y_{0}$"
      ],
      "text/plain": [
       "                                                    2                  \n",
       "I⋅(\\mathrm{vis}⋅cos(\\varphi + a₃⋅(x - x₀)) + 1)⋅sinc (sₓ⋅(x - x₀))     \n",
       "────────────────────────────────────────────────────────────────── + y₀\n",
       "                                2                                      "
      ]
     },
     "execution_count": 3,
     "metadata": {},
     "output_type": "execute_result"
    }
   ],
   "source": [
    "dx = x - x0\n",
    "sdx = sx * dx\n",
    "    \n",
    "sinc_val = sympy.sinc(sdx)\n",
    "term1 = sympy.Rational(1, 2) * sinc_val**2\n",
    "term2_inner = visibility * sympy.cos(a3 * dx + phase)\n",
    "term2 = 1 + term2_inner \n",
    "    \n",
    "y = intensity * term1 * term2 + offset\n",
    "y"
   ]
  },
  {
   "cell_type": "markdown",
   "metadata": {},
   "source": [
    "## Compute Derivatives ##"
   ]
  },
  {
   "cell_type": "code",
   "execution_count": 4,
   "metadata": {},
   "outputs": [
    {
     "data": {
      "text/latex": [
       "$\\displaystyle \\left[ \\frac{I \\mathrm{vis} a_{3} \\sin{\\left(\\varphi + a_{3} \\left(x - x_{0}\\right) \\right)} \\operatorname{sinc}^{2}{\\left(s_{x} \\left(x - x_{0}\\right) \\right)}}{2} - I s_{x} \\left(\\mathrm{vis} \\cos{\\left(\\varphi + a_{3} \\left(x - x_{0}\\right) \\right)} + 1\\right) \\left(\\begin{cases} \\frac{s_{x} \\left(x - x_{0}\\right) \\cos{\\left(s_{x} \\left(x - x_{0}\\right) \\right)} - \\sin{\\left(s_{x} \\left(x - x_{0}\\right) \\right)}}{s_{x}^{2} \\left(x - x_{0}\\right)^{2}} & \\text{for}\\: s_{x} \\left(x - x_{0}\\right) \\neq 0 \\\\0 & \\text{otherwise} \\end{cases}\\right) \\operatorname{sinc}{\\left(s_{x} \\left(x - x_{0}\\right) \\right)}, \\  \\frac{\\left(\\mathrm{vis} \\cos{\\left(\\varphi + a_{3} \\left(x - x_{0}\\right) \\right)} + 1\\right) \\operatorname{sinc}^{2}{\\left(s_{x} \\left(x - x_{0}\\right) \\right)}}{2}, \\  I \\left(x - x_{0}\\right) \\left(\\mathrm{vis} \\cos{\\left(\\varphi + a_{3} \\left(x - x_{0}\\right) \\right)} + 1\\right) \\left(\\begin{cases} \\frac{s_{x} \\left(x - x_{0}\\right) \\cos{\\left(s_{x} \\left(x - x_{0}\\right) \\right)} - \\sin{\\left(s_{x} \\left(x - x_{0}\\right) \\right)}}{s_{x}^{2} \\left(x - x_{0}\\right)^{2}} & \\text{for}\\: s_{x} \\left(x - x_{0}\\right) \\neq 0 \\\\0 & \\text{otherwise} \\end{cases}\\right) \\operatorname{sinc}{\\left(s_{x} \\left(x - x_{0}\\right) \\right)}, \\  1, \\  - \\frac{I \\mathrm{vis} \\sin{\\left(\\varphi + a_{3} \\left(x - x_{0}\\right) \\right)} \\operatorname{sinc}^{2}{\\left(s_{x} \\left(x - x_{0}\\right) \\right)}}{2}, \\  \\frac{I \\cos{\\left(\\varphi + a_{3} \\left(x - x_{0}\\right) \\right)} \\operatorname{sinc}^{2}{\\left(s_{x} \\left(x - x_{0}\\right) \\right)}}{2}, \\  - \\frac{I \\mathrm{vis} \\left(x - x_{0}\\right) \\sin{\\left(\\varphi + a_{3} \\left(x - x_{0}\\right) \\right)} \\operatorname{sinc}^{2}{\\left(s_{x} \\left(x - x_{0}\\right) \\right)}}{2}\\right]$"
      ],
      "text/plain": [
       "⎡                                                                             \n",
       "⎢                                                 2                           \n",
       "⎢I⋅\\mathrm{vis}⋅a₃⋅sin(\\varphi + a₃⋅(x - x₀))⋅sinc (sₓ⋅(x - x₀))              \n",
       "⎢─────────────────────────────────────────────────────────────── - I⋅sₓ⋅(\\math\n",
       "⎢                               2                                             \n",
       "⎢                                                                             \n",
       "⎣                                                                             \n",
       "\n",
       "                                        ⎛⎧sₓ⋅(x - x₀)⋅cos(sₓ⋅(x - x₀)) - sin(s\n",
       "                                        ⎜⎪────────────────────────────────────\n",
       "                                        ⎜⎪                   2         2      \n",
       "rm{vis}⋅cos(\\varphi + a₃⋅(x - x₀)) + 1)⋅⎜⎨                 sₓ ⋅(x - x₀)       \n",
       "                                        ⎜⎪                                    \n",
       "                                        ⎜⎪                       0            \n",
       "                                        ⎝⎩                                    \n",
       "\n",
       "ₓ⋅(x - x₀))                     ⎞                                             \n",
       "───────────  for sₓ⋅(x - x₀) ≠ 0⎟                                             \n",
       "                                ⎟                    (\\mathrm{vis}⋅cos(\\varphi\n",
       "                                ⎟⋅sinc(sₓ⋅(x - x₀)), ─────────────────────────\n",
       "                                ⎟                                             \n",
       "                  otherwise     ⎟                                             \n",
       "                                ⎠                                             \n",
       "\n",
       "                                                                              \n",
       "                         2                                                    \n",
       " + a₃⋅(x - x₀)) + 1)⋅sinc (sₓ⋅(x - x₀))                                       \n",
       "───────────────────────────────────────, I⋅(x - x₀)⋅(\\mathrm{vis}⋅cos(\\varphi \n",
       "      2                                                                       \n",
       "                                                                              \n",
       "                                                                              \n",
       "\n",
       "                    ⎛⎧sₓ⋅(x - x₀)⋅cos(sₓ⋅(x - x₀)) - sin(sₓ⋅(x - x₀))         \n",
       "                    ⎜⎪───────────────────────────────────────────────  for sₓ⋅\n",
       "                    ⎜⎪                   2         2                          \n",
       "+ a₃⋅(x - x₀)) + 1)⋅⎜⎨                 sₓ ⋅(x - x₀)                           \n",
       "                    ⎜⎪                                                        \n",
       "                    ⎜⎪                       0                              ot\n",
       "                    ⎝⎩                                                        \n",
       "\n",
       "            ⎞                                                                 \n",
       "(x - x₀) ≠ 0⎟                                                                 \n",
       "            ⎟                       -I⋅\\mathrm{vis}⋅sin(\\varphi + a₃⋅(x - x₀))\n",
       "            ⎟⋅sinc(sₓ⋅(x - x₀)), 1, ──────────────────────────────────────────\n",
       "            ⎟                                                     2           \n",
       "herwise     ⎟                                                                 \n",
       "            ⎠                                                                 \n",
       "\n",
       "                                                                              \n",
       "     2                                                 2                      \n",
       "⋅sinc (sₓ⋅(x - x₀))   I⋅cos(\\varphi + a₃⋅(x - x₀))⋅sinc (sₓ⋅(x - x₀))  -I⋅\\mat\n",
       "────────────────────, ───────────────────────────────────────────────, ───────\n",
       "                                             2                                \n",
       "                                                                              \n",
       "                                                                              \n",
       "\n",
       "                                                                ⎤\n",
       "                                                 2              ⎥\n",
       "hrm{vis}⋅(x - x₀)⋅sin(\\varphi + a₃⋅(x - x₀))⋅sinc (sₓ⋅(x - x₀)) ⎥\n",
       "────────────────────────────────────────────────────────────────⎥\n",
       "                            2                                   ⎥\n",
       "                                                                ⎥\n",
       "                                                                ⎦"
      ]
     },
     "execution_count": 4,
     "metadata": {},
     "output_type": "execute_result"
    }
   ],
   "source": [
    "dy_dx0 = sympy.diff(y, x0)\n",
    "dy_dI = sympy.diff(y, intensity)\n",
    "dy_dxs = sympy.diff(y, sx)\n",
    "dy_dy0 = sympy.diff(y, offset)\n",
    "dy_dphase = sympy.diff(y, phase)\n",
    "dy_dvisibility = sympy.diff(y, visibility)\n",
    "dy_da3 = sympy.diff(y, a3)\n",
    "\n",
    "derivs = [\n",
    "    dy_dx0,\n",
    "    dy_dI,\n",
    "    dy_dxs,\n",
    "    dy_dy0,\n",
    "    dy_dphase,\n",
    "    dy_dvisibility,\n",
    "    dy_da3,\n",
    "]\n",
    "derivs"
   ]
  },
  {
   "cell_type": "markdown",
   "metadata": {},
   "source": [
    "### Simplify expressions ###"
   ]
  },
  {
   "cell_type": "code",
   "execution_count": 5,
   "metadata": {},
   "outputs": [],
   "source": [
    "dx_r = sympy.Symbol('dx', real=True)\n",
    "dxs_r = sympy.Symbol('sdx', real=True) #hier stand dxs statt sdx \n",
    "cr = sympy.Symbol('cr', real=True)\n",
    "cr2 = sympy.Symbol('cr_2', real=True)\n",
    "scr = sympy.Symbol('scr', real=True)\n",
    "ccr = sympy.Symbol('ccr', real=True)"
   ]
  },
  {
   "cell_type": "code",
   "execution_count": 6,
   "metadata": {},
   "outputs": [
    {
     "data": {
      "text/latex": [
       "$\\displaystyle \\left[ \\frac{I \\mathrm{vis} a_{3} scr \\operatorname{sinc}^{2}{\\left(sdx \\right)}}{2} - I cr_{2} s_{x} \\left(\\begin{cases} \\frac{sdx \\cos{\\left(sdx \\right)} - \\sin{\\left(sdx \\right)}}{sdx^{2}} & \\text{for}\\: sdx \\neq 0 \\\\0 & \\text{otherwise} \\end{cases}\\right) \\operatorname{sinc}{\\left(sdx \\right)}, \\  \\frac{cr_{2} \\operatorname{sinc}^{2}{\\left(sdx \\right)}}{2}, \\  I cr_{2} dx \\left(\\begin{cases} \\frac{sdx \\cos{\\left(sdx \\right)} - \\sin{\\left(sdx \\right)}}{sdx^{2}} & \\text{for}\\: sdx \\neq 0 \\\\0 & \\text{otherwise} \\end{cases}\\right) \\operatorname{sinc}{\\left(sdx \\right)}, \\  1, \\  - \\frac{I \\mathrm{vis} scr \\operatorname{sinc}^{2}{\\left(sdx \\right)}}{2}, \\  \\frac{I ccr \\operatorname{sinc}^{2}{\\left(sdx \\right)}}{2}, \\  - \\frac{I \\mathrm{vis} dx scr \\operatorname{sinc}^{2}{\\left(sdx \\right)}}{2}\\right]$"
      ],
      "text/plain": [
       "⎡                                            ⎛⎧sdx⋅cos(sdx) - sin(sdx)        \n",
       "⎢                          2                 ⎜⎪───────────────────────  for sd\n",
       "⎢I⋅\\mathrm{vis}⋅a₃⋅scr⋅sinc (sdx)            ⎜⎪             2                 \n",
       "⎢──────────────────────────────── - I⋅cr₂⋅sₓ⋅⎜⎨          sdx                  \n",
       "⎢               2                            ⎜⎪                               \n",
       "⎢                                            ⎜⎪           0              other\n",
       "⎣                                            ⎝⎩                               \n",
       "\n",
       "     ⎞                                     ⎛⎧sdx⋅cos(sdx) - sin(sdx)          \n",
       "x ≠ 0⎟                    2                ⎜⎪───────────────────────  for sdx \n",
       "     ⎟            cr₂⋅sinc (sdx)           ⎜⎪             2                   \n",
       "     ⎟⋅sinc(sdx), ──────────────, I⋅cr₂⋅dx⋅⎜⎨          sdx                    \n",
       "     ⎟                  2                  ⎜⎪                                 \n",
       "wise ⎟                                     ⎜⎪           0              otherwi\n",
       "     ⎠                                     ⎝⎩                                 \n",
       "\n",
       "   ⎞                                                                          \n",
       "≠ 0⎟                                       2                  2               \n",
       "   ⎟               -I⋅\\mathrm{vis}⋅scr⋅sinc (sdx)   I⋅ccr⋅sinc (sdx)  -I⋅\\math\n",
       "   ⎟⋅sinc(sdx), 1, ───────────────────────────────, ────────────────, ────────\n",
       "   ⎟                              2                        2                  \n",
       "se ⎟                                                                          \n",
       "   ⎠                                                                          \n",
       "\n",
       "                          ⎤\n",
       "                   2      ⎥\n",
       "rm{vis}⋅dx⋅scr⋅sinc (sdx) ⎥\n",
       "──────────────────────────⎥\n",
       "        2                 ⎥\n",
       "                          ⎥\n",
       "                          ⎦"
      ]
     },
     "execution_count": 6,
     "metadata": {},
     "output_type": "execute_result"
    }
   ],
   "source": [
    "derivs=[\n",
    "    term.subs(x, dx_r + x0)\n",
    "    .subs(dx_r * sx, dxs_r)\n",
    "    .subs(phase + a3 * dx_r, cr) \n",
    "    .subs(visibility * sympy.cos(cr) + 1, cr2)\n",
    "    .subs(sympy.sin(cr), scr)\n",
    "    .subs(sympy.cos(cr), ccr)\n",
    "    for term in derivs\n",
    "]\n",
    "derivs"
   ]
  },
  {
   "cell_type": "markdown",
   "metadata": {},
   "source": [
    "## Approximation ##"
   ]
  },
  {
   "cell_type": "code",
   "execution_count": 8,
   "metadata": {},
   "outputs": [],
   "source": [
    "import numpy as np"
   ]
  },
  {
   "cell_type": "markdown",
   "metadata": {},
   "source": [
    "Approximation of\n",
    "\n",
    "$$ \\frac{\\cos(x)}{x}-\\frac{\\sin(x)}{x^2}=\\mathrm{sinc}(x)\\bigg[\\cot(x)-\\frac1x \\bigg]$$"
   ]
  },
  {
   "cell_type": "code",
   "execution_count": 9,
   "metadata": {},
   "outputs": [],
   "source": [
    "orig_formula=sympy.cos(x)/x - sympy.sin(x)/x**2\n",
    "cot_formula =1/x * sympy.sin(x) * (sympy.cot(x) - 1/x)\n",
    "tay_formula =-x/3+x**3/30-x**5/840+x**7/45360"
   ]
  },
  {
   "cell_type": "code",
   "execution_count": 10,
   "metadata": {},
   "outputs": [
    {
     "data": {
      "image/png": "[encoded data removed]",
      "text/latex": [
       "$\\displaystyle \\left( \\frac{\\cos{\\left(x \\right)}}{x} - \\frac{\\sin{\\left(x \\right)}}{x^{2}}, \\  - \\frac{x}{3} + \\frac{x^{3}}{30} - \\frac{x^{5}}{840} + \\frac{x^{7}}{45360} + O\\left(x^{8}\\right)\\right)$"
      ],
      "text/plain": [
       "⎛                        3     5      7         ⎞\n",
       "⎜cos(x)   sin(x)    x   x     x      x      ⎛ 8⎞⎟\n",
       "⎜────── - ──────, - ─ + ── - ─── + ───── + O⎝x ⎠⎟\n",
       "⎜  x         2      3   30   840   45360        ⎟\n",
       "⎝           x                                   ⎠"
      ]
     },
     "execution_count": 10,
     "metadata": {},
     "output_type": "execute_result"
    }
   ],
   "source": [
    "orig_formula,orig_formula.series(n = 8)"
   ]
  },
  {
   "cell_type": "code",
   "execution_count": 11,
   "metadata": {},
   "outputs": [
    {
     "data": {
      "image/png": "[encoded data removed]",
      "text/latex": [
       "$\\displaystyle \\left( \\frac{\\left(\\cot{\\left(x \\right)} - \\frac{1}{x}\\right) \\sin{\\left(x \\right)}}{x}, \\  - \\frac{x}{3} + \\frac{x^{3}}{30} - \\frac{x^{5}}{840} + \\frac{x^{7}}{45360} + O\\left(x^{8}\\right)\\right)$"
      ],
      "text/plain": [
       "⎛⎛         1⎞                                       ⎞\n",
       "⎜⎜cot(x) - ─⎟⋅sin(x)         3     5      7         ⎟\n",
       "⎜⎝         x⎠           x   x     x      x      ⎛ 8⎞⎟\n",
       "⎜───────────────────, - ─ + ── - ─── + ───── + O⎝x ⎠⎟\n",
       "⎝         x             3   30   840   45360        ⎠"
      ]
     },
     "execution_count": 11,
     "metadata": {},
     "output_type": "execute_result"
    }
   ],
   "source": [
    "cot_formula,cot_formula.series(n = 8)"
   ]
  },
  {
   "cell_type": "code",
   "execution_count": 12,
   "metadata": {},
   "outputs": [
    {
     "data": {
      "image/png": "[encoded data removed]",
      "text/latex": [
       "$\\displaystyle \\frac{x^{7}}{45360} - \\frac{x^{5}}{840} + \\frac{x^{3}}{30} - \\frac{x}{3}$"
      ],
      "text/plain": [
       "   7      5    3    \n",
       "  x      x    x    x\n",
       "───── - ─── + ── - ─\n",
       "45360   840   30   3"
      ]
     },
     "execution_count": 12,
     "metadata": {},
     "output_type": "execute_result"
    }
   ],
   "source": [
    "tay_formula"
   ]
  },
  {
   "cell_type": "markdown",
   "metadata": {},
   "source": [
    "In the calcultions we will use for $x$-values close to 0 the tay_formula, since this is the one where we don't divide by 0.\n",
    "\n",
    "We will now analyze which formula is the numerical most stable for values not in the area of 0.\n",
    "We got 3 possibilities:\n",
    "\n",
    "**A)** $$ \\frac{\\cos(x)}{x}-\\frac{\\sin(x)}{x^2}$$\n",
    "**B)** $$ \\frac{x\\cos(x)-\\sin(x)}{x^2}$$\n",
    "**C)** $$ \\frac{\\left(\\cot(x)-\\frac1x\\right)\\sin(x)}{x}$$"
   ]
  },
  {
   "cell_type": "code",
   "execution_count": 13,
   "metadata": {},
   "outputs": [],
   "source": [
    "from scipy.special import cotdg\n",
    "\n",
    "def formula_A(z):\n",
    "    return np.cos(z)/z-np.sin(z)/(z**2)\n",
    "def formula_B(z):\n",
    "    return (z*np.cos(z)-np.sin(z))/(z**2)\n",
    "def formula_Ca(z):\n",
    "    return ((1/np.tan(z)-1/z)*np.sin(z))/z\n",
    "def formula_Cb(z):\n",
    "    return ((cotdg((180/np.pi)*z)-1/z)*np.sin(z))/z"
   ]
  },
  {
   "cell_type": "code",
   "execution_count": 14,
   "metadata": {},
   "outputs": [
    {
     "name": "stdout",
     "output_type": "stream",
     "text": [
      "                                 Average                            Worst\n",
      "Performance A:    4.06906714064923703237414826751e-17     3.02401517597190053396494705820e-15\n",
      "Performance B:    2.84137921236523046232381929040e-17     1.02908317859857237539123390460e-15\n",
      "Performance Ca:   3.02051453472087065293234200906e-17     6.37937439789723981133446518037e-16\n",
      "Performance Cb:   4.78870538920483615170728297192e-16     4.64815201559486816885117127222e-14\n"
     ]
    }
   ],
   "source": [
    "z = np.linspace(0.05, 10, num=10*60)\n",
    "val_exact = [orig_formula.evalf(30,subs={x:z_i}) for z_i in z] #30 digits of precision\n",
    "val_A     = formula_A(z)\n",
    "val_B     = formula_B(z)\n",
    "val_Ca     = formula_Ca(z)\n",
    "val_Cb     = formula_Cb(z)\n",
    "print(\"                                 Average                            Worst\")\n",
    "print(\"Performance A:   \", np.mean(np.abs(val_exact-val_A)),\"   \",np.max(np.abs(val_exact-val_A)))\n",
    "print(\"Performance B:   \", np.mean(np.abs(val_exact-val_B)),\"   \",np.max(np.abs(val_exact-val_B)))\n",
    "print(\"Performance Ca:  \", np.mean(np.abs(val_exact-val_Ca)),\"   \",np.max(np.abs(val_exact-val_Ca)))\n",
    "print(\"Performance Cb:  \", np.mean(np.abs(val_exact-val_Cb)),\"   \",np.max(np.abs(val_exact-val_Cb)))"
   ]
  },
  {
   "cell_type": "markdown",
   "metadata": {},
   "source": [
    "We observe that formula_Ca performs best. The problem with formula_Ca is that we are diving inside by\n",
    "$\\tan(z)$ and $\\tan(n\\cdot\\pi)=0$ for all $n\\in\\mathbb{Z}$. But although:"
   ]
  },
  {
   "cell_type": "code",
   "execution_count": 15,
   "metadata": {},
   "outputs": [
    {
     "data": {
      "image/png": "[encoded data removed]",
      "text/latex": [
       "$\\displaystyle -1.22464679914735 \\cdot 10^{-16}$"
      ],
      "text/plain": [
       "-1.2246467991473532e-16"
      ]
     },
     "execution_count": 15,
     "metadata": {},
     "output_type": "execute_result"
    }
   ],
   "source": [
    "np.tan(np.pi)"
   ]
  },
  {
   "cell_type": "markdown",
   "metadata": {},
   "source": [
    "formula_Ca performs good for $z=n\\cdot\\pi$"
   ]
  },
  {
   "cell_type": "code",
   "execution_count": 16,
   "metadata": {},
   "outputs": [
    {
     "name": "stdout",
     "output_type": "stream",
     "text": [
      "formula_Ca output:    -0.06366197723675814\n",
      "true output:          -0.0636619772367581343075535053490\n",
      "Error:                1.16017777347360459272479460476e-18\n"
     ]
    }
   ],
   "source": [
    "n=5\n",
    "print(\"formula_Ca output:   \",formula_Ca(n*np.pi))\n",
    "print(\"true output:         \",orig_formula.evalf(30,subs={x: n*sympy.pi}))\n",
    "print(\"Error:               \",abs(formula_Ca(n*np.pi)-orig_formula.evalf(30,subs={x: n*sympy.pi})))"
   ]
  }
 ],
 "metadata": {
  "kernelspec": {
   "display_name": "Python 3",
   "language": "python",
   "name": "python3"
  },
  "language_info": {
   "codemirror_mode": {
    "name": "ipython",
    "version": 3
   },
   "file_extension": ".py",
   "mimetype": "text/x-python",
   "name": "python",
   "nbconvert_exporter": "python",
   "pygments_lexer": "ipython3",
   "version": "3.8.8"
  }
 },
 "nbformat": 4,
 "nbformat_minor": 4
}
